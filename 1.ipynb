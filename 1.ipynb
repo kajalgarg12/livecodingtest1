{
 "cells": [
  {
   "cell_type": "code",
   "execution_count": 2,
   "metadata": {},
   "outputs": [
    {
     "name": "stdout",
     "output_type": "stream",
     "text": [
      "kjl\n",
      "****** \n",
      "***** \n",
      "**** \n",
      "*** \n",
      "** \n",
      "* \n"
     ]
    }
   ],
   "source": [
    "# question 6 \n",
    "# class  calculator():\n",
    "#     def _init_(self, num1, num2):\n",
    "#         self.num1 = num1\n",
    "#         self.num2 = num2\n",
    "#     def add(self):\n",
    "#         return self.num1 + self.num2\n",
    "#     def subtract(self):\n",
    "#         return self.num1 - self.num2\n",
    "#     def multiply(self):\n",
    "#         return self.num1 * self.num2\n",
    "#     def divide(self):\n",
    "#         return self.num1 / self.num2\n",
    "\n",
    "# num1 = int(input(\"enter number1\"))\n",
    "# num2 = int(input(\"enter number 2\"))\n",
    "# obj  = calculator(num1,num2)\n",
    "\n",
    "# while True:\n",
    "#  def method():\n",
    "#     x = (\"add\\n  sub\\n multiply \\n divide\")\n",
    "#     print(x)\n",
    "#  method()\n",
    "#  choice = (\"choose any one method:\")\n",
    "#  if choice == 1 :\n",
    "#     print(\"result :\",obj.add())\n",
    "#  elif choice == 2 :\n",
    "#     print(\"result :\",obj.subtract())\n",
    "#  elif choice == 3 :\n",
    "#     print(\"result :\",obj.muttiply())\n",
    "#  elif choice == 4 :\n",
    "#     print(\"result :\",obj.divide())\n",
    "#  elif choice == 0 :\n",
    "#     print(\"choose again\")\n",
    "#     break\n",
    "\n",
    "\n",
    "\n",
    "\n",
    "\n",
    "# question 1\n",
    "str = input(\"enter a string\")\n",
    "modify = str[::2]\n",
    "print(modify)\n",
    "\n",
    "\n",
    "# question2\n",
    "def half_pyramid(rows):\n",
    "\n",
    "    for i in range(rows, 0 , -1):\n",
    "        for j in range(0,i):\n",
    "            print(\"*\" , end = \"\")\n",
    "        print(\" \")\n",
    "\n",
    "half_pyramid(6)\n",
    "\n",
    "\n"
   ]
  }
 ],
 "metadata": {
  "interpreter": {
   "hash": "120c8f4f7c232c33cfb20b74cd7fb8ecc8835be028f42c6988de3c489a468d94"
  },
  "kernelspec": {
   "display_name": "Python 3.8.8 64-bit ('base': conda)",
   "language": "python",
   "name": "python3"
  },
  "language_info": {
   "codemirror_mode": {
    "name": "ipython",
    "version": 3
   },
   "file_extension": ".py",
   "mimetype": "text/x-python",
   "name": "python",
   "nbconvert_exporter": "python",
   "pygments_lexer": "ipython3",
   "version": "3.8.8"
  },
  "orig_nbformat": 4
 },
 "nbformat": 4,
 "nbformat_minor": 2
}
